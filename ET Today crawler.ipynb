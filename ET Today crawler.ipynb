{
 "cells": [
  {
   "cell_type": "code",
   "execution_count": 1,
   "id": "5a1c94df",
   "metadata": {},
   "outputs": [
    {
     "name": "stderr",
     "output_type": "stream",
     "text": [
      "\n",
      "KeyboardInterrupt\n",
      "\n"
     ]
    }
   ],
   "source": [
    "import requests as req\n",
    "from requests import get\n",
    "from bs4 import BeautifulSoup as bf\n",
    "import openpyxl\n",
    "# from openpyxl.drwing.image import Image \n",
    "import pandas as pd\n",
    "import os\n",
    "from datetime import datetime, date\n",
    "import datetime \n",
    "import time\n",
    "import re\n",
    "from IPython.display import Image\n",
    "import json\n",
    "import io\n",
    "import jpype\n",
    "import asposecells\n",
    "from urllib.parse import urlparse, urljoin"
   ]
  },
  {
   "cell_type": "code",
   "execution_count": null,
   "id": "c58f7a91",
   "metadata": {},
   "outputs": [],
   "source": [
    "URLs = [ \n",
    "        'https://www.ettoday.net/news/focus/%E6%94%BF%E6%B2%BB/',  #政治\n",
    "        'https://www.ettoday.net/news/focus/%E7%A4%BE%E6%9C%83/',   #社會\n",
    "        'https://www.ettoday.net/news/focus/%E5%A4%A7%E9%99%B8/',   #大陸   時間會有問題\n",
    "        'https://www.ettoday.net/news/focus/%E7%94%9F%E6%B4%BB/',  #生活新聞\n",
    "       ]\n",
    "\n",
    "df_rows = []"
   ]
  },
  {
   "cell_type": "code",
   "execution_count": null,
   "id": "b78e147f",
   "metadata": {},
   "outputs": [],
   "source": [
    "for URL in URLs:\n",
    "    request = req.get(URL)\n",
    "    sp = bf(request.text, 'html.parser')\n",
    "    sel = sp.find_all('div', {'class': 'piece clearfix'})[:20]\n",
    "#     category = sp.find('em', class_='icon').find_next_sibling('span').text\n",
    "    try:\n",
    "        category = sp.find('em', class_='icon').find_next_sibling('span').text\n",
    "    except AttributeError:\n",
    "        category = sp.find('h2', class_='block_title').text.strip()\n",
    "\n",
    "\n",
    "\n",
    "\n",
    "    for i in sel:\n",
    "        link = i.find('a').get('href')    # 各個的連結   \n",
    "        if not urlparse(link).scheme:\n",
    "            link = urljoin(URL, link)\n",
    "        \n",
    "        Link_Content = req.get(link)\n",
    "        sp_inner = bf(Link_Content.text, 'html.parser')\n",
    "        \n",
    "#         index = sp_inner.find('strong')\n",
    "        header = sp_inner.find('h1', class_='title')\n",
    "        publish_time = sp_inner.find('time').text\n",
    "        Inner_contents = [p.text for p in sp_inner.find_all('p')[3:] if not p.find('strong')]\n",
    "        end_index = next((i for i, p in enumerate(Inner_contents) if \n",
    "                          \"分享給朋友：\" in p), None)\n",
    "       \n",
    "        if header:  \n",
    "            header = header.get_text(strip=True)  # 看標標題有沒有\n",
    "        else:\n",
    "            print(\"No header found on page:\", link)\n",
    "            \n",
    "        if end_index is not None:\n",
    "            Inner_contents = Inner_contents[:end_index]     \n",
    "\n",
    "#         Contents = []   # 看有沒有其他方法\n",
    "        \n",
    "        print(category)\n",
    "        print(header)\n",
    "        print(link)\n",
    "        print(publish_time)\n",
    "        \n",
    "        for Inner_content in Inner_contents:  \n",
    "            print(Inner_content)\n",
    "#             Contents.append(Inner_content)\n",
    "        df_rows.append({\n",
    "                    'Category': category,  \n",
    "                    'Title': header,\n",
    "                    'Link': link,\n",
    "                    'Publish time': publish_time,\n",
    "#                     'Content': Contents\n",
    "                     'Content': '\\n'.join(Inner_contents)\n",
    "                    }\n",
    "                        )"
   ]
  },
  {
   "cell_type": "code",
   "execution_count": null,
   "id": "84892836",
   "metadata": {},
   "outputs": [],
   "source": [
    "df = pd.DataFrame(df_rows)\n",
    "\n",
    "\n",
    "today = datetime.date.today().strftime('%Y-%m-%d')\n",
    "file_name = 'ET Today' + today \n",
    "file_path = 'C:/Users/Administrator/INTERN/testing'\n",
    "\n",
    "df.to_excel(os.path.join(file_path, file_name + '.xlsx'), \n",
    "            index=False, encoding='UTF-8-Sig', engine='openpyxl')"
   ]
  },
  {
   "cell_type": "code",
   "execution_count": null,
   "id": "a0637ca8",
   "metadata": {},
   "outputs": [],
   "source": []
  },
  {
   "cell_type": "code",
   "execution_count": null,
   "id": "9473252d",
   "metadata": {},
   "outputs": [],
   "source": []
  },
  {
   "cell_type": "code",
   "execution_count": null,
   "id": "3e56fc95",
   "metadata": {},
   "outputs": [],
   "source": []
  },
  {
   "cell_type": "code",
   "execution_count": null,
   "id": "b86a90aa",
   "metadata": {},
   "outputs": [],
   "source": []
  },
  {
   "cell_type": "code",
   "execution_count": null,
   "id": "68ffe612",
   "metadata": {},
   "outputs": [],
   "source": []
  },
  {
   "cell_type": "code",
   "execution_count": null,
   "id": "58f4e5a9",
   "metadata": {},
   "outputs": [],
   "source": []
  },
  {
   "cell_type": "code",
   "execution_count": null,
   "id": "348fe941",
   "metadata": {},
   "outputs": [],
   "source": []
  }
 ],
 "metadata": {
  "kernelspec": {
   "display_name": "Python 3 (ipykernel)",
   "language": "python",
   "name": "python3"
  },
  "language_info": {
   "codemirror_mode": {
    "name": "ipython",
    "version": 3
   },
   "file_extension": ".py",
   "mimetype": "text/x-python",
   "name": "python",
   "nbconvert_exporter": "python",
   "pygments_lexer": "ipython3",
   "version": "3.10.9"
  }
 },
 "nbformat": 4,
 "nbformat_minor": 5
}
